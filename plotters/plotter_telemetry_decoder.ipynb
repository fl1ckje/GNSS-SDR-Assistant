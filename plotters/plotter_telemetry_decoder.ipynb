{
 "cells": [
  {
   "cell_type": "code",
   "execution_count": 1,
   "metadata": {},
   "outputs": [],
   "source": [
    "import os\n",
    "import h5py\n",
    "import numpy as np\n",
    "import matplotlib.pyplot as plt"
   ]
  },
  {
   "cell_type": "code",
   "execution_count": 2,
   "metadata": {},
   "outputs": [
    {
     "name": "stdout",
     "output_type": "stream",
     "text": [
      "Working directory: /home/fl1ckje/gnss-sdr-data-process\n"
     ]
    }
   ],
   "source": [
    "working_dir = os.getcwd().replace('\\\\', '/')\n",
    "print(f\"Working directory: {working_dir}\")"
   ]
  },
  {
   "cell_type": "code",
   "execution_count": 3,
   "metadata": {},
   "outputs": [
    {
     "name": "stdout",
     "output_type": "stream",
     "text": [
      "<HDF5 dataset \"PRN\": shape (3576261, 1), type \"<i4\">\n",
      "<HDF5 dataset \"TOW_at_Preamble_ms\": shape (3576261, 1), type \"<f8\">\n",
      "<HDF5 dataset \"TOW_at_current_symbol_ms\": shape (3576261, 1), type \"<f8\">\n",
      "<HDF5 dataset \"nav_symbol\": shape (3576261, 1), type \"<i4\">\n",
      "<HDF5 dataset \"tracking_sample_counter\": shape (3576261, 1), type \"<u8\">\n"
     ]
    }
   ],
   "source": [
    "FILENAME = 'telemetry_ch_0_gl.mat'\n",
    "file = h5py.File(working_dir + '/' + FILENAME, 'r')\n",
    "datasets = []\n",
    "for key in file.keys():\n",
    "    datasets.append(file[key])\n",
    "for dataset in datasets:\n",
    "    print(dataset)"
   ]
  },
  {
   "cell_type": "code",
   "execution_count": 4,
   "metadata": {},
   "outputs": [
    {
     "name": "stdout",
     "output_type": "stream",
     "text": [
      "Epochs number: 3576261\n",
      "Channels number: 1\n"
     ]
    }
   ],
   "source": [
    "epochs_number = datasets[0].shape[0]\n",
    "channels_number = datasets[0].shape[1]\n",
    "print(f\"Epochs number: {epochs_number}\")\n",
    "print(f\"Channels number: {channels_number}\")"
   ]
  },
  {
   "cell_type": "code",
   "execution_count": 5,
   "metadata": {},
   "outputs": [],
   "source": [
    "%matplotlib tk"
   ]
  },
  {
   "cell_type": "code",
   "execution_count": 6,
   "metadata": {},
   "outputs": [],
   "source": [
    "epochs_range = np.arange(0, epochs_number, 1)"
   ]
  },
  {
   "cell_type": "code",
   "execution_count": 7,
   "metadata": {},
   "outputs": [],
   "source": [
    "CHANNEL_NUMBER = 0\n",
    "DATASET_NUMBER = 2 #0-4\n",
    "\n",
    "fig, ax = plt.subplots()\n",
    "plt.title(f\"{datasets[DATASET_NUMBER].name.replace('/', '')}\")\n",
    "ds = np.array(datasets[DATASET_NUMBER]).T\n",
    "ax.plot(epochs_range, ds[CHANNEL_NUMBER])\n",
    "ax.set(xlabel='epochs', ylabel='value')\n",
    "ax.grid()\n",
    "plt.show()"
   ]
  }
 ],
 "metadata": {
  "kernelspec": {
   "display_name": "Python 3",
   "language": "python",
   "name": "python3"
  },
  "language_info": {
   "codemirror_mode": {
    "name": "ipython",
    "version": 3
   },
   "file_extension": ".py",
   "mimetype": "text/x-python",
   "name": "python",
   "nbconvert_exporter": "python",
   "pygments_lexer": "ipython3",
   "version": "3.10.12"
  }
 },
 "nbformat": 4,
 "nbformat_minor": 2
}
