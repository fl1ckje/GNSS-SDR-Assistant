{
 "cells": [
  {
   "cell_type": "code",
   "execution_count": 1,
   "metadata": {},
   "outputs": [],
   "source": [
    "import os\n",
    "import numpy as np\n",
    "import mat73\n",
    "import matplotlib.pyplot as plt"
   ]
  },
  {
   "cell_type": "code",
   "execution_count": 2,
   "metadata": {},
   "outputs": [
    {
     "name": "stdout",
     "output_type": "stream",
     "text": [
      "Working directory: /home/fl1ckje/gnss-sdr-assistant/gnss_sdr_test\n"
     ]
    }
   ],
   "source": [
    "working_dir = os.getcwd().replace('\\\\', '/')\n",
    "print(f\"Working directory: {working_dir}\")"
   ]
  },
  {
   "cell_type": "code",
   "execution_count": 3,
   "metadata": {},
   "outputs": [
    {
     "name": "stdout",
     "output_type": "stream",
     "text": [
      "PRN\n",
      "acq_delay_samples\n",
      "acq_doppler_hz\n",
      "acq_grid\n",
      "d_positive_acq\n",
      "doppler_max\n",
      "doppler_step\n",
      "input_power\n",
      "num_dwells\n",
      "sample_counter\n",
      "test_statistic\n",
      "threshold\n"
     ]
    }
   ],
   "source": [
    "data = mat73.loadmat(f'{working_dir}/acq_dump_G_1C_ch_0_2025_sat_25.mat')\n",
    "for k in data.keys():\n",
    "    print(k)"
   ]
  },
  {
   "cell_type": "code",
   "execution_count": 4,
   "metadata": {},
   "outputs": [],
   "source": [
    "%matplotlib tk"
   ]
  },
  {
   "cell_type": "code",
   "execution_count": 8,
   "metadata": {},
   "outputs": [],
   "source": [
    "doppler_max = data['doppler_max']\n",
    "doppler_step = data['doppler_step']\n",
    "acq_grid = data['acq_grid'][:]\n",
    "f = np.arange(-doppler_max, doppler_max, doppler_step)\n",
    "tau = np.linspace(0, 1023, acq_grid.shape[0])\n",
    "f, tau = np.meshgrid(f, tau)\n",
    "fig, ax = plt.subplots(subplot_kw={\"projection\": \"3d\"})\n",
    "surf = ax.plot_surface(f, tau, acq_grid)\n",
    "ax.set_xlabel('Doppler [Hz]')\n",
    "ax.set_ylabel('Delay [chips]')\n",
    "plt.show()"
   ]
  }
 ],
 "metadata": {
  "kernelspec": {
   "display_name": "Python 3",
   "language": "python",
   "name": "python3"
  },
  "language_info": {
   "codemirror_mode": {
    "name": "ipython",
    "version": 3
   },
   "file_extension": ".py",
   "mimetype": "text/x-python",
   "name": "python",
   "nbconvert_exporter": "python",
   "pygments_lexer": "ipython3",
   "version": "3.10.12"
  }
 },
 "nbformat": 4,
 "nbformat_minor": 2
}
