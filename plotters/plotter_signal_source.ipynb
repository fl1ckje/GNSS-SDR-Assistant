{
 "cells": [
  {
   "cell_type": "code",
   "execution_count": 1,
   "metadata": {},
   "outputs": [],
   "source": [
    "import os\n",
    "import numpy as np\n",
    "import matplotlib.pyplot as plt"
   ]
  },
  {
   "cell_type": "code",
   "execution_count": 2,
   "metadata": {},
   "outputs": [
    {
     "name": "stdout",
     "output_type": "stream",
     "text": [
      "Working directory: /home/fl1ckje/gnss-sdr-assistant/gnss_sdr_test\n"
     ]
    }
   ],
   "source": [
    "working_dir = os.getcwd().replace('\\\\', '/')\n",
    "print(f\"Working directory: {working_dir}\")"
   ]
  },
  {
   "cell_type": "code",
   "execution_count": 3,
   "metadata": {},
   "outputs": [],
   "source": [
    "samples = np.fromfile(f'{working_dir}/2013_04_04_GNSS_SIGNAL_at_CTTC_SPAIN.dat', np.int16)\n",
    "samples = samples[::2] + 1j*samples[1::2]"
   ]
  },
  {
   "cell_type": "code",
   "execution_count": 5,
   "metadata": {},
   "outputs": [],
   "source": [
    "%matplotlib tk"
   ]
  },
  {
   "cell_type": "code",
   "execution_count": 8,
   "metadata": {},
   "outputs": [],
   "source": [
    "i = np.real(samples[20:4000])\n",
    "q = np.imag(samples[20:4000])\n",
    "\n",
    "time = np.arange(len(i))\n",
    "\n",
    "plt.figure(figsize=(12, 6))\n",
    "plt.subplot(2, 1, 1)\n",
    "plt.plot(time, i)\n",
    "plt.grid()\n",
    "plt.title('I компонента')\n",
    "plt.xlabel('Выборка')\n",
    "plt.ylabel('Амплитуда')\n",
    "\n",
    "plt.subplot(2, 1, 2)\n",
    "plt.plot(time, q)\n",
    "plt.grid()\n",
    "plt.title('Q компонента')\n",
    "plt.xlabel('Выборка')\n",
    "plt.ylabel('Амплитуда')\n",
    "\n",
    "plt.tight_layout()\n",
    "plt.show()"
   ]
  }
 ],
 "metadata": {
  "kernelspec": {
   "display_name": "Python 3",
   "language": "python",
   "name": "python3"
  },
  "language_info": {
   "codemirror_mode": {
    "name": "ipython",
    "version": 3
   },
   "file_extension": ".py",
   "mimetype": "text/x-python",
   "name": "python",
   "nbconvert_exporter": "python",
   "pygments_lexer": "ipython3",
   "version": "3.10.12"
  }
 },
 "nbformat": 4,
 "nbformat_minor": 2
}
