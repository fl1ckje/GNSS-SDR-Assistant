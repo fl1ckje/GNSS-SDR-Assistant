{
 "cells": [
  {
   "cell_type": "code",
   "execution_count": 1,
   "metadata": {},
   "outputs": [],
   "source": [
    "import os\n",
    "import h5py\n",
    "import numpy as np\n",
    "import matplotlib.pyplot as plt"
   ]
  },
  {
   "cell_type": "code",
   "execution_count": 2,
   "metadata": {},
   "outputs": [
    {
     "name": "stdout",
     "output_type": "stream",
     "text": [
      "Working directory: /home/fl1ckje/gnss-sdr-assistant/gnss_sdr_test\n"
     ]
    }
   ],
   "source": [
    "working_dir = os.getcwd().replace('\\\\', '/')\n",
    "print(f\"Working directory: {working_dir}\")"
   ]
  },
  {
   "cell_type": "code",
   "execution_count": 3,
   "metadata": {},
   "outputs": [
    {
     "name": "stdout",
     "output_type": "stream",
     "text": [
      "<HDF5 dataset \"Carrier_Doppler_hz\": shape (187474, 13), type \"<f8\">\n",
      "<HDF5 dataset \"Carrier_phase_cycles\": shape (187474, 13), type \"<f8\">\n",
      "<HDF5 dataset \"Flag_valid_pseudorange\": shape (187474, 13), type \"<f8\">\n",
      "<HDF5 dataset \"PRN\": shape (187474, 13), type \"<f8\">\n",
      "<HDF5 dataset \"Pseudorange_m\": shape (187474, 13), type \"<f8\">\n",
      "<HDF5 dataset \"RX_time\": shape (187474, 13), type \"<f8\">\n",
      "<HDF5 dataset \"TOW_at_current_symbol_s\": shape (187474, 13), type \"<f8\">\n"
     ]
    }
   ],
   "source": [
    "FILENAME = 'observables.mat'\n",
    "file = h5py.File(working_dir + '/' + FILENAME, 'r')\n",
    "datasets = []\n",
    "for key in file.keys():\n",
    "    datasets.append(file[key])\n",
    "for dataset in datasets:\n",
    "    print(dataset)"
   ]
  },
  {
   "cell_type": "code",
   "execution_count": 4,
   "metadata": {},
   "outputs": [
    {
     "name": "stdout",
     "output_type": "stream",
     "text": [
      "Epochs number: 187474\n",
      "Channels number: 13\n"
     ]
    }
   ],
   "source": [
    "epochs_number = datasets[0].shape[0]\n",
    "channels_number = datasets[0].shape[1]\n",
    "print(f\"Epochs number: {epochs_number}\")\n",
    "print(f\"Channels number: {channels_number}\")"
   ]
  },
  {
   "cell_type": "code",
   "execution_count": 5,
   "metadata": {},
   "outputs": [],
   "source": [
    "%matplotlib tk"
   ]
  },
  {
   "cell_type": "code",
   "execution_count": 6,
   "metadata": {},
   "outputs": [],
   "source": [
    "epochs_range = np.arange(0, epochs_number, 1)"
   ]
  },
  {
   "cell_type": "code",
   "execution_count": 7,
   "metadata": {},
   "outputs": [],
   "source": [
    "CHANNEL_NUMBER = 0 #0-12\n",
    "DATASET_NUMBER = 4 #0-6\n",
    "\n",
    "fig, ax = plt.subplots()\n",
    "plt.title(f\"{datasets[DATASET_NUMBER].name.replace('/', '')}\")\n",
    "ds = np.array(datasets[DATASET_NUMBER]).T\n",
    "ax.plot(epochs_range, ds[CHANNEL_NUMBER])\n",
    "ax.set(xlabel='epochs', ylabel='value')\n",
    "ax.grid()\n",
    "plt.show()"
   ]
  },
  {
   "cell_type": "code",
   "execution_count": 8,
   "metadata": {},
   "outputs": [],
   "source": [
    "# '''\n",
    "# ALL CHANNELS IN ONE PLOT\n",
    "# '''\n",
    "# DATASET_NUMBER = 4 #0-6\n",
    "# fig, ax = plt.subplots()\n",
    "# plt.title(f\"{datasets[DATASET_NUMBER].name.replace('/', '')}\")\n",
    "# ds = np.array(datasets[DATASET_NUMBER]).T\n",
    "# i = 0\n",
    "# for ch in ds:\n",
    "#     ax.plot(epochs_range, ch)\n",
    "#     i += 1\n",
    "# ax.set(xlabel='epochs', ylabel='value')\n",
    "# ax.grid()\n",
    "# plt.show()"
   ]
  }
 ],
 "metadata": {
  "kernelspec": {
   "display_name": "Python 3",
   "language": "python",
   "name": "python3"
  },
  "language_info": {
   "codemirror_mode": {
    "name": "ipython",
    "version": 3
   },
   "file_extension": ".py",
   "mimetype": "text/x-python",
   "name": "python",
   "nbconvert_exporter": "python",
   "pygments_lexer": "ipython3",
   "version": "3.10.12"
  }
 },
 "nbformat": 4,
 "nbformat_minor": 2
}
