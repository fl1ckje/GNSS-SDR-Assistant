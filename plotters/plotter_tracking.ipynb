{
 "cells": [
  {
   "cell_type": "code",
   "execution_count": 10,
   "metadata": {},
   "outputs": [],
   "source": [
    "import os\n",
    "import numpy as np\n",
    "import mat73\n",
    "import matplotlib.pyplot as plt"
   ]
  },
  {
   "cell_type": "code",
   "execution_count": 11,
   "metadata": {},
   "outputs": [
    {
     "name": "stdout",
     "output_type": "stream",
     "text": [
      "Working directory: /home/fl1ckje/gnss-sdr-assistant/gnss_sdr_test\n"
     ]
    }
   ],
   "source": [
    "working_dir = os.getcwd().replace('\\\\', '/')\n",
    "print(f\"Working directory: {working_dir}\")"
   ]
  },
  {
   "cell_type": "code",
   "execution_count": 66,
   "metadata": {},
   "outputs": [
    {
     "name": "stdout",
     "output_type": "stream",
     "text": [
      "CN0_SNV_dB_Hz\n",
      "PRN\n",
      "PRN_start_sample_count\n",
      "Prompt_I\n",
      "Prompt_Q\n",
      "abs_E\n",
      "abs_L\n",
      "abs_P\n",
      "abs_VE\n",
      "abs_VL\n",
      "acc_carrier_phase_rad\n",
      "aux1\n",
      "aux2\n",
      "carr_error_filt_hz\n",
      "carr_error_hz\n",
      "carrier_doppler_hz\n",
      "carrier_doppler_rate_hz\n",
      "carrier_lock_test\n",
      "code_error_chips\n",
      "code_error_filt_chips\n",
      "code_freq_chips\n",
      "code_freq_rate_chips\n"
     ]
    }
   ],
   "source": [
    "data = mat73.loadmat(f'{working_dir}/tracking_ch_1.mat')\n",
    "for k in data.keys():\n",
    "    print(k)\n"
   ]
  },
  {
   "cell_type": "code",
   "execution_count": 13,
   "metadata": {},
   "outputs": [],
   "source": [
    "%matplotlib tk"
   ]
  },
  {
   "cell_type": "code",
   "execution_count": 149,
   "metadata": {},
   "outputs": [],
   "source": [
    "#обязательно нужно установить нужную частоту дискретизации,\n",
    "#иначе шкала времени будет неправильной\n",
    "sampling_freq = 4000000\n",
    "time_axis = np.copy(data['PRN_start_sample_count'])/ sampling_freq\n",
    "time_label = 'Время, с'\n",
    "#t0, t1 - начало и конец отрезка для вывода значений\n",
    "t0 = 0\n",
    "t1 = 6000000\n",
    "\n",
    "\n",
    "if t1 > len(time_axis):\n",
    "    t1 = len(time_axis)"
   ]
  },
  {
   "cell_type": "code",
   "execution_count": 139,
   "metadata": {},
   "outputs": [],
   "source": [
    "fig, ax = plt.subplots()\n",
    "ax.plot(time_axis[t0:t1], data['CN0_SNV_dB_Hz'][t0:t1])\n",
    "plt.xlabel(time_label)\n",
    "plt.ylabel('дБ/Гц')\n",
    "plt.title('Отношение сигнал/шум')\n",
    "plt.minorticks_on()\n",
    "plt.grid(which='major')\n",
    "plt.grid(which='minor', alpha=0.2)\n",
    "plt.show()"
   ]
  },
  {
   "cell_type": "code",
   "execution_count": 53,
   "metadata": {},
   "outputs": [],
   "source": [
    "fig, ax = plt.subplots()\n",
    "ax.plot(data['Prompt_I'][t0:t1], data['Prompt_Q']\n",
    "        [t0:t1], marker='.', markersize=1, linestyle=' ')\n",
    "plt.xlabel('I')\n",
    "plt.ylabel('Q')\n",
    "plt.tight_layout()\n",
    "plt.minorticks_on()\n",
    "plt.grid(which='major')\n",
    "plt.grid(which='minor', alpha=0.2)\n",
    "plt.show()"
   ]
  },
  {
   "cell_type": "code",
   "execution_count": 57,
   "metadata": {},
   "outputs": [],
   "source": [
    "fig, ax = plt.subplots()\n",
    "ax.plot(time_axis[t0:t1], data['Prompt_I'][t0:t1])\n",
    "plt.xlabel(time_label)\n",
    "plt.title('Биты навигационного сообщения')\n",
    "plt.minorticks_on()\n",
    "plt.grid(which='major')\n",
    "plt.grid(which='minor', alpha=0.2)\n",
    "plt.show()"
   ]
  },
  {
   "cell_type": "code",
   "execution_count": 65,
   "metadata": {},
   "outputs": [],
   "source": [
    "fig, ax = plt.subplots()\n",
    "ax.plot(time_axis[t0:t1], data['carr_error_hz'][t0:t1])\n",
    "plt.xlabel(time_label)\n",
    "plt.ylabel('Амплитуда')\n",
    "plt.title('Необработанный дискриминатор ФАПЧ')\n",
    "plt.minorticks_on()\n",
    "plt.grid(which='major')\n",
    "plt.grid(which='minor', alpha=0.2)\n",
    "plt.show()"
   ]
  },
  {
   "cell_type": "code",
   "execution_count": 73,
   "metadata": {},
   "outputs": [],
   "source": [
    "fig, ax = plt.subplots()\n",
    "ax.plot(time_axis[t0:t1], data['carr_error_filt_hz'][t0:t1])\n",
    "plt.xlabel(time_label)\n",
    "plt.ylabel('Амплитуда')\n",
    "plt.title('Дискриминатор ФАПЧ после фильтрации')\n",
    "plt.minorticks_on()\n",
    "plt.grid(which='major')\n",
    "plt.grid(which='minor', alpha=0.2)\n",
    "plt.show()"
   ]
  },
  {
   "cell_type": "code",
   "execution_count": 77,
   "metadata": {},
   "outputs": [],
   "source": [
    "fig, ax = plt.subplots()\n",
    "ax.plot(time_axis[t0:t1], data['code_error_chips'][t0:t1])\n",
    "plt.xlabel(time_label)\n",
    "plt.ylabel('Амплитуда')\n",
    "plt.title('Необработанный дискриминатор петли с задержкой блокировки')\n",
    "plt.minorticks_on()\n",
    "plt.grid(which='major')\n",
    "plt.grid(which='minor', alpha=0.2)\n",
    "plt.show()"
   ]
  },
  {
   "cell_type": "code",
   "execution_count": 75,
   "metadata": {},
   "outputs": [],
   "source": [
    "fig, ax = plt.subplots()\n",
    "ax.plot(time_axis[t0:t1], data['code_error_filt_chips'][t0:t1])\n",
    "plt.xlabel(time_label)\n",
    "plt.ylabel('Амплитуда')\n",
    "plt.title('Дискриминатор петли с задержкой блокировки после фильтрации')\n",
    "plt.minorticks_on()\n",
    "plt.grid(which='major')\n",
    "plt.grid(which='minor', alpha=0.2)\n",
    "plt.show()"
   ]
  }
 ],
 "metadata": {
  "kernelspec": {
   "display_name": "Python 3",
   "language": "python",
   "name": "python3"
  },
  "language_info": {
   "codemirror_mode": {
    "name": "ipython",
    "version": 3
   },
   "file_extension": ".py",
   "mimetype": "text/x-python",
   "name": "python",
   "nbconvert_exporter": "python",
   "pygments_lexer": "ipython3",
   "version": "3.10.12"
  }
 },
 "nbformat": 4,
 "nbformat_minor": 2
}
